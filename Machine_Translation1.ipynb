{
  "nbformat": 4,
  "nbformat_minor": 0,
  "metadata": {
    "colab": {
      "name": "Machine Translation1.ipynb",
      "version": "0.3.2",
      "provenance": [],
      "collapsed_sections": [],
      "toc_visible": true,
      "machine_shape": "hm"
    },
    "kernelspec": {
      "name": "python3",
      "display_name": "Python 3"
    },
    "accelerator": "GPU"
  },
  "cells": [
    {
      "cell_type": "code",
      "metadata": {
        "id": "oZazhV2T6pJs",
        "colab_type": "code",
        "outputId": "316f5dc0-1b95-4e33-e3fd-ce3b8997a57d",
        "colab": {
          "base_uri": "https://localhost:8080/",
          "height": 33
        }
      },
      "source": [
        "from zipfile import ZipFile\n",
        "\n",
        "file_name = \"/content/deu-eng.zip\"\n",
        "with ZipFile(file_name,'r') as zip:\n",
        "  zip.extractall()\n",
        "  print('Done')"
      ],
      "execution_count": 0,
      "outputs": [
        {
          "output_type": "stream",
          "text": [
            "Done\n"
          ],
          "name": "stdout"
        }
      ]
    },
    {
      "cell_type": "code",
      "metadata": {
        "id": "ucTQET8X9hMa",
        "colab_type": "code",
        "outputId": "06710ef7-7c3b-4084-b124-cf451d039c4f",
        "colab": {
          "base_uri": "https://localhost:8080/",
          "height": 33
        }
      },
      "source": [
        "import string\n",
        "import re\n",
        "from numpy import array, argmax, random, take\n",
        "import pandas as pd\n",
        "from keras.models import Sequential\n",
        "from keras.layers import Dense, LSTM, Embedding, RepeatVector\n",
        "from keras.preprocessing.text import Tokenizer\n",
        "from keras.callbacks import ModelCheckpoint\n",
        "from keras.preprocessing.sequence import pad_sequences\n",
        "from keras.models import load_model\n",
        "from keras import optimizers\n",
        "import matplotlib.pyplot as plt\n",
        "%matplotlib inline\n",
        "pd.set_option('display.max_colwidth', 200)"
      ],
      "execution_count": 0,
      "outputs": [
        {
          "output_type": "stream",
          "text": [
            "Using TensorFlow backend.\n"
          ],
          "name": "stderr"
        }
      ]
    },
    {
      "cell_type": "markdown",
      "metadata": {
        "id": "K184Y1RD_Rdl",
        "colab_type": "text"
      },
      "source": [
        "##Loading Data"
      ]
    },
    {
      "cell_type": "code",
      "metadata": {
        "id": "c6H05KZa9qJ2",
        "colab_type": "code",
        "colab": {}
      },
      "source": [
        "# function to read raw text file\n",
        "def read_text(filename):\n",
        "  file = open(filename, mode='rt', encoding='utf-8')\n",
        "  text = file.read()\n",
        "  file.close()\n",
        "  return text"
      ],
      "execution_count": 0,
      "outputs": []
    },
    {
      "cell_type": "code",
      "metadata": {
        "id": "PHcmopL792zR",
        "colab_type": "code",
        "colab": {}
      },
      "source": [
        "# split a text into sentences\n",
        "def to_lines(text):\n",
        "  sents = text.strip().split('\\n')\n",
        "  sents = [i.split('\\t') for i in sents]\n",
        "  return sents"
      ],
      "execution_count": 0,
      "outputs": []
    },
    {
      "cell_type": "code",
      "metadata": {
        "id": "0dHBfdB4-KTC",
        "colab_type": "code",
        "colab": {}
      },
      "source": [
        "data = read_text(\"deu.txt\")\n",
        "deu_eng = to_lines(data)\n",
        "deu_eng = array(deu_eng)\n",
        "#deu_eng = deu_eng[:50000,:]"
      ],
      "execution_count": 0,
      "outputs": []
    },
    {
      "cell_type": "code",
      "metadata": {
        "id": "IkFeAtbU_Brm",
        "colab_type": "code",
        "outputId": "57e1cfcc-8a55-431a-d80b-3b3b9e658cb8",
        "colab": {
          "base_uri": "https://localhost:8080/",
          "height": 33
        }
      },
      "source": [
        "deu_eng.shape"
      ],
      "execution_count": 0,
      "outputs": [
        {
          "output_type": "execute_result",
          "data": {
            "text/plain": [
              "(195847, 2)"
            ]
          },
          "metadata": {
            "tags": []
          },
          "execution_count": 7
        }
      ]
    },
    {
      "cell_type": "code",
      "metadata": {
        "id": "dt9URUGM-dD1",
        "colab_type": "code",
        "outputId": "a5e906fa-437f-4db5-9679-a5e0238de8e4",
        "colab": {
          "base_uri": "https://localhost:8080/",
          "height": 221
        }
      },
      "source": [
        "deu_eng"
      ],
      "execution_count": 0,
      "outputs": [
        {
          "output_type": "execute_result",
          "data": {
            "text/plain": [
              "array([['Hi.', 'Hallo!'],\n",
              "       ['Hi.', 'Grüß Gott!'],\n",
              "       ['Run!', 'Lauf!'],\n",
              "       ...,\n",
              "       [\"If someone who doesn't know your background says that you sound like a native speaker, it means they probably noticed something about your speaking that made them realize you weren't a native speaker. In other words, you don't really sound like a native speaker.\",\n",
              "        'Wenn jemand Fremdes dir sagt, dass du dich wie ein Muttersprachler anhörst, bedeutet das wahrscheinlich: Er hat etwas an deinem Sprechen bemerkt, dass dich als Nicht-Muttersprachler verraten hat. Mit anderen Worten: Du hörst dich nicht wirklich wie ein Muttersprachler an.'],\n",
              "       ['It may be impossible to get a completely error-free corpus due to the nature of this kind of collaborative effort. However, if we encourage members to contribute sentences in their own languages rather than experiment in languages they are learning, we might be able to minimize errors.',\n",
              "        'Es ist wohl unmöglich, einen vollkommen fehlerfreien Korpus zu erreichen\\xa0— das liegt in der Natur eines solchen Gemeinschaftsprojekts. Doch wenn wir unsere Mitglieder dazu bringen können, nicht mit Sprachen herumzuexperimentieren, die sie gerade lernen, sondern Sätze in ihrer eigenen Muttersprache beizutragen, dann gelingt es uns vielleicht, die Zahl der Fehler klein zu halten.'],\n",
              "       ['Doubtless there exists in this world precisely the right woman for any given man to marry and vice versa; but when you consider that a human being has the opportunity of being acquainted with only a few hundred people, and out of the few hundred that there are but a dozen or less whom he knows intimately, and out of the dozen, one or two friends at most, it will easily be seen, when we remember the number of millions who inhabit this world, that probably, since the earth was created, the right man has never yet met the right woman.',\n",
              "        'Ohne Zweifel findet sich auf dieser Welt zu jedem Mann genau die richtige Ehefrau und umgekehrt; wenn man jedoch in Betracht zieht, dass ein Mensch nur Gelegenheit hat, mit ein paar hundert anderen bekannt zu sein, von denen ihm nur ein Dutzend oder weniger nahesteht, darunter höchstens ein oder zwei Freunde, dann erahnt man eingedenk der Millionen Einwohner dieser Welt\\xa0leicht, dass seit Erschaffung ebenderselben wohl noch nie der richtige Mann der richtigen Frau begegnet ist.']],\n",
              "      dtype='<U537')"
            ]
          },
          "metadata": {
            "tags": []
          },
          "execution_count": 8
        }
      ]
    },
    {
      "cell_type": "markdown",
      "metadata": {
        "id": "hckBzMia_Vph",
        "colab_type": "text"
      },
      "source": [
        "##Text Cleaning"
      ]
    },
    {
      "cell_type": "code",
      "metadata": {
        "id": "IJOAQGdI-1ZZ",
        "colab_type": "code",
        "colab": {}
      },
      "source": [
        "# Remove punctuation\n",
        "deu_eng[:,0] = [s.translate(str.maketrans('', '', string.punctuation)) for s in deu_eng[:,0]]\n",
        "deu_eng[:,1] = [s.translate(str.maketrans('', '', string.punctuation)) for s in deu_eng[:,1]]"
      ],
      "execution_count": 0,
      "outputs": []
    },
    {
      "cell_type": "code",
      "metadata": {
        "id": "_1oy_oKj_7o3",
        "colab_type": "code",
        "colab": {}
      },
      "source": [
        "# convert text to lowercase\n",
        "for i in range(len(deu_eng)):\n",
        "    deu_eng[i,0] = deu_eng[i,0].lower()\n",
        "    deu_eng[i,1] = deu_eng[i,1].lower()"
      ],
      "execution_count": 0,
      "outputs": []
    },
    {
      "cell_type": "markdown",
      "metadata": {
        "id": "62mnt5mCAP5K",
        "colab_type": "text"
      },
      "source": [
        "##Text to Sequence Conversion"
      ]
    },
    {
      "cell_type": "code",
      "metadata": {
        "id": "elfOebiKAGMT",
        "colab_type": "code",
        "outputId": "6e18aa26-2077-47c0-a613-646300ac1171",
        "colab": {
          "base_uri": "https://localhost:8080/",
          "height": 281
        }
      },
      "source": [
        "eng_l = []\n",
        "deu_l = []\n",
        "\n",
        "# populate the lists with sentence lengths\n",
        "for i in deu_eng[:,0]:\n",
        "      eng_l.append(len(i.split()))\n",
        "\n",
        "for i in deu_eng[:,1]:\n",
        "      deu_l.append(len(i.split()))\n",
        "\n",
        "length_df = pd.DataFrame({'eng':eng_l, 'deu':deu_l})\n",
        "\n",
        "length_df.hist(bins = 100)\n",
        "plt.show()"
      ],
      "execution_count": 0,
      "outputs": [
        {
          "output_type": "display_data",
          "data": {
            "image/png": "[encoded data removed]",
            "text/plain": [
              "<Figure size 432x288 with 2 Axes>"
            ]
          },
          "metadata": {
            "tags": []
          }
        }
      ]
    },
    {
      "cell_type": "code",
      "metadata": {
        "id": "L9d2OPZdAiS-",
        "colab_type": "code",
        "outputId": "e7620344-cbd1-4a63-c418-559160b0e2ab",
        "colab": {
          "base_uri": "https://localhost:8080/",
          "height": 196
        }
      },
      "source": [
        "length_df.sample(5)"
      ],
      "execution_count": 0,
      "outputs": [
        {
          "output_type": "execute_result",
          "data": {
            "text/html": [
              "<div>\n",
              "<style scoped>\n",
              "    .dataframe tbody tr th:only-of-type {\n",
              "        vertical-align: middle;\n",
              "    }\n",
              "\n",
              "    .dataframe tbody tr th {\n",
              "        vertical-align: top;\n",
              "    }\n",
              "\n",
              "    .dataframe thead th {\n",
              "        text-align: right;\n",
              "    }\n",
              "</style>\n",
              "<table border=\"1\" class=\"dataframe\">\n",
              "  <thead>\n",
              "    <tr style=\"text-align: right;\">\n",
              "      <th></th>\n",
              "      <th>eng</th>\n",
              "      <th>deu</th>\n",
              "    </tr>\n",
              "  </thead>\n",
              "  <tbody>\n",
              "    <tr>\n",
              "      <th>75911</th>\n",
              "      <td>6</td>\n",
              "      <td>8</td>\n",
              "    </tr>\n",
              "    <tr>\n",
              "      <th>176054</th>\n",
              "      <td>9</td>\n",
              "      <td>9</td>\n",
              "    </tr>\n",
              "    <tr>\n",
              "      <th>83662</th>\n",
              "      <td>7</td>\n",
              "      <td>6</td>\n",
              "    </tr>\n",
              "    <tr>\n",
              "      <th>17050</th>\n",
              "      <td>3</td>\n",
              "      <td>6</td>\n",
              "    </tr>\n",
              "    <tr>\n",
              "      <th>130064</th>\n",
              "      <td>5</td>\n",
              "      <td>4</td>\n",
              "    </tr>\n",
              "  </tbody>\n",
              "</table>\n",
              "</div>"
            ],
            "text/plain": [
              "        eng  deu\n",
              "75911     6    8\n",
              "176054    9    9\n",
              "83662     7    6\n",
              "17050     3    6\n",
              "130064    5    4"
            ]
          },
          "metadata": {
            "tags": []
          },
          "execution_count": 12
        }
      ]
    },
    {
      "cell_type": "code",
      "metadata": {
        "id": "asIIth-JAuNe",
        "colab_type": "code",
        "colab": {}
      },
      "source": [
        "# function to build a tokenizer\n",
        "def tokenization(lines):\n",
        "      tokenizer = Tokenizer()\n",
        "      tokenizer.fit_on_texts(lines)\n",
        "      return tokenizer"
      ],
      "execution_count": 0,
      "outputs": []
    },
    {
      "cell_type": "code",
      "metadata": {
        "id": "a6nCdIkhBY5x",
        "colab_type": "code",
        "outputId": "0a20bce2-8ac5-44bf-e958-cd11e5bab7b8",
        "colab": {
          "base_uri": "https://localhost:8080/",
          "height": 33
        }
      },
      "source": [
        "# prepare english tokenizer\n",
        "eng_tokenizer = tokenization(deu_eng[:, 0])\n",
        "eng_vocab_size = len(eng_tokenizer.word_index) + 1\n",
        "\n",
        "eng_length = 8\n",
        "print('English Vocabulary Size: %d' % eng_vocab_size)"
      ],
      "execution_count": 0,
      "outputs": [
        {
          "output_type": "stream",
          "text": [
            "English Vocabulary Size: 16172\n"
          ],
          "name": "stdout"
        }
      ]
    },
    {
      "cell_type": "code",
      "metadata": {
        "id": "WqSRxsaxBi9m",
        "colab_type": "code",
        "outputId": "afd348de-51f3-4ebd-a34f-70e143b2c30d",
        "colab": {
          "base_uri": "https://localhost:8080/",
          "height": 33
        }
      },
      "source": [
        "# prepare Deutch tokenizer\n",
        "deu_tokenizer = tokenization(deu_eng[:, 1])\n",
        "deu_vocab_size = len(deu_tokenizer.word_index) + 1\n",
        "\n",
        "deu_length = 8\n",
        "print('Deutch Vocabulary Size: %d' % deu_vocab_size)"
      ],
      "execution_count": 0,
      "outputs": [
        {
          "output_type": "stream",
          "text": [
            "Deutch Vocabulary Size: 35021\n"
          ],
          "name": "stdout"
        }
      ]
    },
    {
      "cell_type": "code",
      "metadata": {
        "id": "OLHeO0a0BqMH",
        "colab_type": "code",
        "colab": {}
      },
      "source": [
        "# encode and pad sequences\n",
        "def encode_sequences(tokenizer, length, lines):\n",
        "         # integer encode sequences\n",
        "         seq = tokenizer.texts_to_sequences(lines)\n",
        "         # pad sequences with 0 values\n",
        "         seq = pad_sequences(seq, maxlen=length, padding='post')\n",
        "         return seq"
      ],
      "execution_count": 0,
      "outputs": []
    },
    {
      "cell_type": "code",
      "metadata": {
        "id": "nSFCgaB-B5PH",
        "colab_type": "code",
        "colab": {}
      },
      "source": [
        "from sklearn.model_selection import train_test_split\n",
        "\n",
        "# split data into train and test set\n",
        "train, test = train_test_split(deu_eng, test_size=0.2, random_state = 12)"
      ],
      "execution_count": 0,
      "outputs": []
    },
    {
      "cell_type": "code",
      "metadata": {
        "id": "k5nuJYxGB_5J",
        "colab_type": "code",
        "colab": {}
      },
      "source": [
        "# prepare training data\n",
        "trainX = encode_sequences(deu_tokenizer, deu_length, train[:, 1])\n",
        "trainY = encode_sequences(eng_tokenizer, eng_length, train[:, 0])\n",
        "\n",
        "# prepare validation data\n",
        "testX = encode_sequences(deu_tokenizer, deu_length, test[:, 1])\n",
        "testY = encode_sequences(eng_tokenizer, eng_length, test[:, 0])"
      ],
      "execution_count": 0,
      "outputs": []
    },
    {
      "cell_type": "markdown",
      "metadata": {
        "id": "N_7Dsy4lCfRS",
        "colab_type": "text"
      },
      "source": [
        "##Building Model"
      ]
    },
    {
      "cell_type": "code",
      "metadata": {
        "id": "rJpXEnTsCKl_",
        "colab_type": "code",
        "colab": {}
      },
      "source": [
        "# build NMT model\n",
        "def define_model(in_vocab,out_vocab, in_timesteps,out_timesteps,units):\n",
        "      model = Sequential()\n",
        "      model.add(Embedding(in_vocab, units, input_length=in_timesteps, mask_zero=True))\n",
        "      model.add(LSTM(units))\n",
        "      model.add(RepeatVector(out_timesteps))\n",
        "      model.add(LSTM(units, return_sequences=True))\n",
        "      model.add(Dense(out_vocab, activation='softmax'))\n",
        "      return model"
      ],
      "execution_count": 0,
      "outputs": []
    },
    {
      "cell_type": "code",
      "metadata": {
        "id": "NOBwEchXCl9H",
        "colab_type": "code",
        "outputId": "af6f3125-5f45-4614-850e-bc3cebddf4fc",
        "colab": {
          "base_uri": "https://localhost:8080/",
          "height": 204
        }
      },
      "source": [
        "# model compilation\n",
        "model = define_model(deu_vocab_size, eng_vocab_size, deu_length, eng_length, 512)"
      ],
      "execution_count": 0,
      "outputs": [
        {
          "output_type": "stream",
          "text": [
            "WARNING: Logging before flag parsing goes to stderr.\n",
            "W0817 16:19:40.674347 140564672681856 deprecation_wrapper.py:119] From /usr/local/lib/python3.6/dist-packages/keras/backend/tensorflow_backend.py:74: The name tf.get_default_graph is deprecated. Please use tf.compat.v1.get_default_graph instead.\n",
            "\n",
            "W0817 16:19:40.723821 140564672681856 deprecation_wrapper.py:119] From /usr/local/lib/python3.6/dist-packages/keras/backend/tensorflow_backend.py:517: The name tf.placeholder is deprecated. Please use tf.compat.v1.placeholder instead.\n",
            "\n",
            "W0817 16:19:40.730109 140564672681856 deprecation_wrapper.py:119] From /usr/local/lib/python3.6/dist-packages/keras/backend/tensorflow_backend.py:4138: The name tf.random_uniform is deprecated. Please use tf.random.uniform instead.\n",
            "\n",
            "W0817 16:19:41.456930 140564672681856 deprecation.py:323] From /usr/local/lib/python3.6/dist-packages/keras/backend/tensorflow_backend.py:2974: add_dispatch_support.<locals>.wrapper (from tensorflow.python.ops.array_ops) is deprecated and will be removed in a future version.\n",
            "Instructions for updating:\n",
            "Use tf.where in 2.0, which has the same broadcast rule as np.where\n"
          ],
          "name": "stderr"
        }
      ]
    },
    {
      "cell_type": "code",
      "metadata": {
        "id": "6p1dGNBfDcfW",
        "colab_type": "code",
        "outputId": "ea16595a-1b62-4084-9a24-073e01ef3dd6",
        "colab": {
          "base_uri": "https://localhost:8080/",
          "height": 104
        }
      },
      "source": [
        "rms = optimizers.RMSprop(lr=0.001)\n",
        "model.compile(optimizer=rms, loss='sparse_categorical_crossentropy')"
      ],
      "execution_count": 0,
      "outputs": [
        {
          "output_type": "stream",
          "text": [
            "W0817 16:19:47.897966 140564672681856 deprecation_wrapper.py:119] From /usr/local/lib/python3.6/dist-packages/keras/optimizers.py:790: The name tf.train.Optimizer is deprecated. Please use tf.compat.v1.train.Optimizer instead.\n",
            "\n",
            "W0817 16:19:47.903947 140564672681856 deprecation_wrapper.py:119] From /usr/local/lib/python3.6/dist-packages/keras/backend/tensorflow_backend.py:3341: The name tf.log is deprecated. Please use tf.math.log instead.\n",
            "\n"
          ],
          "name": "stderr"
        }
      ]
    },
    {
      "cell_type": "code",
      "metadata": {
        "id": "mJBW8UKDDhkW",
        "colab_type": "code",
        "colab": {}
      },
      "source": [
        "filename = 'MT_model_1.h5'\n",
        "checkpoint = ModelCheckpoint(filename, monitor='val_loss', verbose=1, save_best_only=True, mode='min')"
      ],
      "execution_count": 0,
      "outputs": []
    },
    {
      "cell_type": "code",
      "metadata": {
        "id": "vEiye0OkD7Ky",
        "colab_type": "code",
        "outputId": "4b1e3be5-f116-4f3a-f81f-5d42287d524d",
        "colab": {
          "base_uri": "https://localhost:8080/",
          "height": 1000
        }
      },
      "source": [
        "history = model.fit(trainX, trainY.reshape(trainY.shape[0], trainY.shape[1], 1),\n",
        "                    epochs=50, batch_size=128, validation_split = 0.2,callbacks=[checkpoint], \n",
        "                    verbose=1)"
      ],
      "execution_count": 0,
      "outputs": [
        {
          "output_type": "stream",
          "text": [
            "W0817 16:20:54.187448 140564672681856 deprecation_wrapper.py:119] From /usr/local/lib/python3.6/dist-packages/keras/backend/tensorflow_backend.py:986: The name tf.assign_add is deprecated. Please use tf.compat.v1.assign_add instead.\n",
            "\n"
          ],
          "name": "stderr"
        },
        {
          "output_type": "stream",
          "text": [
            "Train on 125341 samples, validate on 31336 samples\n",
            "Epoch 1/50\n",
            "125341/125341 [==============================] - 86s 688us/step - loss: 4.4201 - val_loss: 3.9415\n",
            "\n",
            "Epoch 00001: val_loss improved from inf to 3.94153, saving model to MT_model_1.h5\n",
            "Epoch 2/50\n",
            "125341/125341 [==============================] - 81s 647us/step - loss: 3.5121 - val_loss: 3.3278\n",
            "\n",
            "Epoch 00002: val_loss improved from 3.94153 to 3.32784, saving model to MT_model_1.h5\n",
            "Epoch 3/50\n",
            "125341/125341 [==============================] - 82s 651us/step - loss: 2.9921 - val_loss: 2.9610\n",
            "\n",
            "Epoch 00003: val_loss improved from 3.32784 to 2.96097, saving model to MT_model_1.h5\n",
            "Epoch 4/50\n",
            "125341/125341 [==============================] - 82s 651us/step - loss: 2.6573 - val_loss: 2.7698\n",
            "\n",
            "Epoch 00004: val_loss improved from 2.96097 to 2.76979, saving model to MT_model_1.h5\n",
            "Epoch 5/50\n",
            "125341/125341 [==============================] - 81s 649us/step - loss: 2.4156 - val_loss: 2.6546\n",
            "\n",
            "Epoch 00005: val_loss improved from 2.76979 to 2.65459, saving model to MT_model_1.h5\n",
            "Epoch 6/50\n",
            "125341/125341 [==============================] - 81s 648us/step - loss: 2.2153 - val_loss: 2.5668\n",
            "\n",
            "Epoch 00006: val_loss improved from 2.65459 to 2.56678, saving model to MT_model_1.h5\n",
            "Epoch 7/50\n",
            "125341/125341 [==============================] - 81s 648us/step - loss: 2.0488 - val_loss: 2.5353\n",
            "\n",
            "Epoch 00007: val_loss improved from 2.56678 to 2.53527, saving model to MT_model_1.h5\n",
            "Epoch 8/50\n",
            "125341/125341 [==============================] - 81s 650us/step - loss: 1.8983 - val_loss: 2.5235\n",
            "\n",
            "Epoch 00008: val_loss improved from 2.53527 to 2.52352, saving model to MT_model_1.h5\n",
            "Epoch 9/50\n",
            "125341/125341 [==============================] - 81s 649us/step - loss: 1.7588 - val_loss: 2.5233\n",
            "\n",
            "Epoch 00009: val_loss improved from 2.52352 to 2.52331, saving model to MT_model_1.h5\n",
            "Epoch 10/50\n",
            "125341/125341 [==============================] - 81s 647us/step - loss: 1.6329 - val_loss: 2.5414\n",
            "\n",
            "Epoch 00010: val_loss did not improve from 2.52331\n",
            "Epoch 11/50\n",
            "125341/125341 [==============================] - 81s 647us/step - loss: 1.5250 - val_loss: 2.5542\n",
            "\n",
            "Epoch 00011: val_loss did not improve from 2.52331\n",
            "Epoch 12/50\n",
            "125341/125341 [==============================] - 81s 646us/step - loss: 1.4263 - val_loss: 2.5991\n",
            "\n",
            "Epoch 00012: val_loss did not improve from 2.52331\n",
            "Epoch 13/50\n",
            "125341/125341 [==============================] - 81s 646us/step - loss: 1.3360 - val_loss: 2.6433\n",
            "\n",
            "Epoch 00013: val_loss did not improve from 2.52331\n",
            "Epoch 14/50\n",
            "125341/125341 [==============================] - 81s 646us/step - loss: 1.2469 - val_loss: 2.6761\n",
            "\n",
            "Epoch 00014: val_loss did not improve from 2.52331\n",
            "Epoch 15/50\n",
            "125341/125341 [==============================] - 81s 649us/step - loss: 1.1745 - val_loss: 2.7214\n",
            "\n",
            "Epoch 00015: val_loss did not improve from 2.52331\n",
            "Epoch 16/50\n",
            "125341/125341 [==============================] - 81s 644us/step - loss: 1.1109 - val_loss: 2.7250\n",
            "\n",
            "Epoch 00016: val_loss did not improve from 2.52331\n",
            "Epoch 17/50\n",
            "125341/125341 [==============================] - 81s 646us/step - loss: 1.0577 - val_loss: 2.7732\n",
            "\n",
            "Epoch 00017: val_loss did not improve from 2.52331\n",
            "Epoch 18/50\n",
            "125341/125341 [==============================] - 81s 648us/step - loss: 0.9980 - val_loss: 2.8182\n",
            "\n",
            "Epoch 00018: val_loss did not improve from 2.52331\n",
            "Epoch 19/50\n",
            "125341/125341 [==============================] - 81s 648us/step - loss: 0.9419 - val_loss: 2.8494\n",
            "\n",
            "Epoch 00019: val_loss did not improve from 2.52331\n",
            "Epoch 20/50\n",
            "125341/125341 [==============================] - 81s 648us/step - loss: 0.8948 - val_loss: 2.8876\n",
            "\n",
            "Epoch 00020: val_loss did not improve from 2.52331\n",
            "Epoch 21/50\n",
            "125341/125341 [==============================] - 81s 645us/step - loss: 0.8558 - val_loss: 2.9211\n",
            "\n",
            "Epoch 00021: val_loss did not improve from 2.52331\n",
            "Epoch 22/50\n",
            "125341/125341 [==============================] - 81s 646us/step - loss: 0.8216 - val_loss: 2.9353\n",
            "\n",
            "Epoch 00022: val_loss did not improve from 2.52331\n",
            "Epoch 23/50\n",
            "125341/125341 [==============================] - 81s 646us/step - loss: 0.7889 - val_loss: 2.9710\n",
            "\n",
            "Epoch 00023: val_loss did not improve from 2.52331\n",
            "Epoch 24/50\n",
            "125341/125341 [==============================] - 81s 644us/step - loss: 0.7603 - val_loss: 2.9928\n",
            "\n",
            "Epoch 00024: val_loss did not improve from 2.52331\n",
            "Epoch 25/50\n",
            "125341/125341 [==============================] - 81s 647us/step - loss: 0.7284 - val_loss: 3.0267\n",
            "\n",
            "Epoch 00025: val_loss did not improve from 2.52331\n",
            "Epoch 26/50\n",
            "125341/125341 [==============================] - 81s 647us/step - loss: 0.6969 - val_loss: 3.0657\n",
            "\n",
            "Epoch 00026: val_loss did not improve from 2.52331\n",
            "Epoch 27/50\n",
            "125341/125341 [==============================] - 81s 646us/step - loss: 0.6718 - val_loss: 3.0872\n",
            "\n",
            "Epoch 00027: val_loss did not improve from 2.52331\n",
            "Epoch 28/50\n",
            "125341/125341 [==============================] - 81s 647us/step - loss: 0.6481 - val_loss: 3.1094\n",
            "\n",
            "Epoch 00028: val_loss did not improve from 2.52331\n",
            "Epoch 29/50\n",
            "125341/125341 [==============================] - 81s 645us/step - loss: 0.6229 - val_loss: 3.1618\n",
            "\n",
            "Epoch 00029: val_loss did not improve from 2.52331\n",
            "Epoch 30/50\n",
            "125341/125341 [==============================] - 81s 647us/step - loss: 0.5988 - val_loss: 3.1746\n",
            "\n",
            "Epoch 00030: val_loss did not improve from 2.52331\n",
            "Epoch 31/50\n",
            "125341/125341 [==============================] - 81s 646us/step - loss: 0.5796 - val_loss: 3.2021\n",
            "\n",
            "Epoch 00031: val_loss did not improve from 2.52331\n",
            "Epoch 32/50\n",
            "125341/125341 [==============================] - 81s 645us/step - loss: 0.5586 - val_loss: 3.2252\n",
            "\n",
            "Epoch 00032: val_loss did not improve from 2.52331\n",
            "Epoch 33/50\n",
            "125341/125341 [==============================] - 81s 646us/step - loss: 0.5408 - val_loss: 3.2473\n",
            "\n",
            "Epoch 00033: val_loss did not improve from 2.52331\n",
            "Epoch 34/50\n",
            "125341/125341 [==============================] - 81s 648us/step - loss: 0.5240 - val_loss: 3.2677\n",
            "\n",
            "Epoch 00034: val_loss did not improve from 2.52331\n",
            "Epoch 35/50\n",
            "125341/125341 [==============================] - 81s 647us/step - loss: 0.5081 - val_loss: 3.2921\n",
            "\n",
            "Epoch 00035: val_loss did not improve from 2.52331\n",
            "Epoch 36/50\n",
            "125341/125341 [==============================] - 81s 645us/step - loss: 0.4937 - val_loss: 3.3060\n",
            "\n",
            "Epoch 00036: val_loss did not improve from 2.52331\n",
            "Epoch 37/50\n",
            "125341/125341 [==============================] - 81s 645us/step - loss: 0.4822 - val_loss: 3.3471\n",
            "\n",
            "Epoch 00037: val_loss did not improve from 2.52331\n",
            "Epoch 38/50\n",
            "125341/125341 [==============================] - 81s 646us/step - loss: 0.4695 - val_loss: 3.3671\n",
            "\n",
            "Epoch 00038: val_loss did not improve from 2.52331\n",
            "Epoch 39/50\n",
            "125341/125341 [==============================] - 81s 646us/step - loss: 0.4600 - val_loss: 3.3917\n",
            "\n",
            "Epoch 00039: val_loss did not improve from 2.52331\n",
            "Epoch 40/50\n",
            "125341/125341 [==============================] - 81s 647us/step - loss: 0.4488 - val_loss: 3.4248\n",
            "\n",
            "Epoch 00040: val_loss did not improve from 2.52331\n",
            "Epoch 41/50\n",
            "125341/125341 [==============================] - 81s 647us/step - loss: 0.4407 - val_loss: 3.4462\n",
            "\n",
            "Epoch 00041: val_loss did not improve from 2.52331\n",
            "Epoch 42/50\n",
            "125341/125341 [==============================] - 81s 646us/step - loss: 0.4303 - val_loss: 3.4845\n",
            "\n",
            "Epoch 00042: val_loss did not improve from 2.52331\n",
            "Epoch 43/50\n",
            "125341/125341 [==============================] - 81s 647us/step - loss: 0.4230 - val_loss: 3.5039\n",
            "\n",
            "Epoch 00043: val_loss did not improve from 2.52331\n",
            "Epoch 44/50\n",
            "125341/125341 [==============================] - 80s 642us/step - loss: 0.4138 - val_loss: 3.5083\n",
            "\n",
            "Epoch 00044: val_loss did not improve from 2.52331\n",
            "Epoch 45/50\n",
            "125341/125341 [==============================] - 81s 643us/step - loss: 0.4058 - val_loss: 3.5353\n",
            "\n",
            "Epoch 00045: val_loss did not improve from 2.52331\n",
            "Epoch 46/50\n",
            "125341/125341 [==============================] - 80s 642us/step - loss: 0.4003 - val_loss: 3.5608\n",
            "\n",
            "Epoch 00046: val_loss did not improve from 2.52331\n",
            "Epoch 47/50\n",
            "125341/125341 [==============================] - 80s 641us/step - loss: 0.3954 - val_loss: 3.5822\n",
            "\n",
            "Epoch 00047: val_loss did not improve from 2.52331\n",
            "Epoch 48/50\n",
            "125341/125341 [==============================] - 80s 641us/step - loss: 0.3900 - val_loss: 3.5999\n",
            "\n",
            "Epoch 00048: val_loss did not improve from 2.52331\n",
            "Epoch 49/50\n",
            "125341/125341 [==============================] - 81s 646us/step - loss: 0.3858 - val_loss: 3.6235\n",
            "\n",
            "Epoch 00049: val_loss did not improve from 2.52331\n",
            "Epoch 50/50\n",
            "125341/125341 [==============================] - 80s 642us/step - loss: 0.3818 - val_loss: 3.6587\n",
            "\n",
            "Epoch 00050: val_loss did not improve from 2.52331\n"
          ],
          "name": "stdout"
        }
      ]
    },
    {
      "cell_type": "code",
      "metadata": {
        "id": "Z6AB2BYUEAyY",
        "colab_type": "code",
        "outputId": "a51bd934-2f3f-4572-9a93-9940f154dd78",
        "colab": {
          "base_uri": "https://localhost:8080/",
          "height": 269
        }
      },
      "source": [
        "plt.plot(history.history['loss'])\n",
        "plt.plot(history.history['val_loss'])\n",
        "plt.legend(['train','validation'])\n",
        "plt.show()"
      ],
      "execution_count": 0,
      "outputs": [
        {
          "output_type": "display_data",
          "data": {
            "image/png": "[encoded data removed]",
            "text/plain": [
              "<Figure size 432x288 with 1 Axes>"
            ]
          },
          "metadata": {
            "tags": []
          }
        }
      ]
    },
    {
      "cell_type": "code",
      "metadata": {
        "id": "Yg1gSXIMVg8C",
        "colab_type": "code",
        "colab": {}
      },
      "source": [
        "model = load_model('MT_model_1.h5')\n",
        "preds = model.predict_classes(testX.reshape((testX.shape[0],testX.shape[1])))"
      ],
      "execution_count": 0,
      "outputs": []
    },
    {
      "cell_type": "code",
      "metadata": {
        "id": "mYhfHtW_Vt3E",
        "colab_type": "code",
        "colab": {}
      },
      "source": [
        "def get_word(n, tokenizer):\n",
        "      for word, index in tokenizer.word_index.items():\n",
        "          if index == n:\n",
        "              return word\n",
        "      return None"
      ],
      "execution_count": 0,
      "outputs": []
    },
    {
      "cell_type": "code",
      "metadata": {
        "id": "meJRWdREWnBK",
        "colab_type": "code",
        "colab": {}
      },
      "source": [
        "preds_text = []\n",
        "for i in preds:\n",
        "       temp = []\n",
        "       for j in range(len(i)):\n",
        "            t = get_word(i[j], eng_tokenizer)\n",
        "            if j > 0:\n",
        "                if (t == get_word(i[j-1], eng_tokenizer)) or (t == None):\n",
        "                     temp.append('')\n",
        "                else:\n",
        "                     temp.append(t)\n",
        "            else:\n",
        "                   if(t == None):\n",
        "                          temp.append('')\n",
        "                   else:\n",
        "                          temp.append(t) \n",
        "\n",
        "       preds_text.append(' '.join(temp))"
      ],
      "execution_count": 0,
      "outputs": []
    },
    {
      "cell_type": "code",
      "metadata": {
        "id": "ls-uRCriWsYt",
        "colab_type": "code",
        "colab": {}
      },
      "source": [
        "pred_df = pd.DataFrame({'actual' : test[:,0], 'predicted' : preds_text})"
      ],
      "execution_count": 0,
      "outputs": []
    },
    {
      "cell_type": "code",
      "metadata": {
        "id": "dI45VJuwttyz",
        "colab_type": "code",
        "outputId": "b4a726d3-99f2-4c88-fc87-8947687202b2",
        "colab": {
          "base_uri": "https://localhost:8080/",
          "height": 343
        }
      },
      "source": [
        "pred_df.sample(10)"
      ],
      "execution_count": 0,
      "outputs": [
        {
          "output_type": "execute_result",
          "data": {
            "text/html": [
              "<div>\n",
              "<style scoped>\n",
              "    .dataframe tbody tr th:only-of-type {\n",
              "        vertical-align: middle;\n",
              "    }\n",
              "\n",
              "    .dataframe tbody tr th {\n",
              "        vertical-align: top;\n",
              "    }\n",
              "\n",
              "    .dataframe thead th {\n",
              "        text-align: right;\n",
              "    }\n",
              "</style>\n",
              "<table border=\"1\" class=\"dataframe\">\n",
              "  <thead>\n",
              "    <tr style=\"text-align: right;\">\n",
              "      <th></th>\n",
              "      <th>actual</th>\n",
              "      <th>predicted</th>\n",
              "    </tr>\n",
              "  </thead>\n",
              "  <tbody>\n",
              "    <tr>\n",
              "      <th>36097</th>\n",
              "      <td>do you like to watch sports on television</td>\n",
              "      <td>do like  watch on in tv</td>\n",
              "    </tr>\n",
              "    <tr>\n",
              "      <th>4464</th>\n",
              "      <td>i think tom would make a good teacher</td>\n",
              "      <td>i think tom would make a teacher</td>\n",
              "    </tr>\n",
              "    <tr>\n",
              "      <th>26508</th>\n",
              "      <td>this chair is made of plastic</td>\n",
              "      <td>this chair is stop to</td>\n",
              "    </tr>\n",
              "    <tr>\n",
              "      <th>16870</th>\n",
              "      <td>im not laughing</td>\n",
              "      <td>i dont get</td>\n",
              "    </tr>\n",
              "    <tr>\n",
              "      <th>18092</th>\n",
              "      <td>that might be true</td>\n",
              "      <td>that could be true</td>\n",
              "    </tr>\n",
              "    <tr>\n",
              "      <th>20679</th>\n",
              "      <td>he said his name was tom</td>\n",
              "      <td>he said his name</td>\n",
              "    </tr>\n",
              "    <tr>\n",
              "      <th>20646</th>\n",
              "      <td>do we have any schnapps left</td>\n",
              "      <td>do we still any</td>\n",
              "    </tr>\n",
              "    <tr>\n",
              "      <th>9792</th>\n",
              "      <td>you said you could play the piano</td>\n",
              "      <td>you thought you could how the piano</td>\n",
              "    </tr>\n",
              "    <tr>\n",
              "      <th>33559</th>\n",
              "      <td>i wish it would happen more often</td>\n",
              "      <td>i wish that better</td>\n",
              "    </tr>\n",
              "    <tr>\n",
              "      <th>29812</th>\n",
              "      <td>is tom happy</td>\n",
              "      <td>is tom happy</td>\n",
              "    </tr>\n",
              "  </tbody>\n",
              "</table>\n",
              "</div>"
            ],
            "text/plain": [
              "                                          actual                             predicted\n",
              "36097  do you like to watch sports on television              do like  watch on in tv \n",
              "4464       i think tom would make a good teacher     i think tom would make a teacher \n",
              "26508              this chair is made of plastic              this chair is stop to   \n",
              "16870                            im not laughing                       i dont get     \n",
              "18092                         that might be true                that could be true    \n",
              "20679                   he said his name was tom                  he said his name    \n",
              "20646               do we have any schnapps left                   do we still any    \n",
              "9792           you said you could play the piano  you thought you could how the piano \n",
              "33559          i wish it would happen more often                i wish that better    \n",
              "29812                               is tom happy                     is tom happy     "
            ]
          },
          "metadata": {
            "tags": []
          },
          "execution_count": 28
        }
      ]
    },
    {
      "cell_type": "code",
      "metadata": {
        "id": "OE7mOzpLtxgJ",
        "colab_type": "code",
        "outputId": "7176c3ac-f772-49cd-c0ea-0ca3fa8cb736",
        "colab": {
          "base_uri": "https://localhost:8080/",
          "height": 195
        }
      },
      "source": [
        "pred_df.head()"
      ],
      "execution_count": 0,
      "outputs": [
        {
          "output_type": "execute_result",
          "data": {
            "text/html": [
              "<div>\n",
              "<style scoped>\n",
              "    .dataframe tbody tr th:only-of-type {\n",
              "        vertical-align: middle;\n",
              "    }\n",
              "\n",
              "    .dataframe tbody tr th {\n",
              "        vertical-align: top;\n",
              "    }\n",
              "\n",
              "    .dataframe thead th {\n",
              "        text-align: right;\n",
              "    }\n",
              "</style>\n",
              "<table border=\"1\" class=\"dataframe\">\n",
              "  <thead>\n",
              "    <tr style=\"text-align: right;\">\n",
              "      <th></th>\n",
              "      <th>actual</th>\n",
              "      <th>predicted</th>\n",
              "    </tr>\n",
              "  </thead>\n",
              "  <tbody>\n",
              "    <tr>\n",
              "      <th>0</th>\n",
              "      <td>i think i might buy that house on park street thats for sale</td>\n",
              "      <td>the   park you to us</td>\n",
              "    </tr>\n",
              "    <tr>\n",
              "      <th>1</th>\n",
              "      <td>youve found a good man</td>\n",
              "      <td>you found a good</td>\n",
              "    </tr>\n",
              "    <tr>\n",
              "      <th>2</th>\n",
              "      <td>may i have a look at your ticket</td>\n",
              "      <td>can i take a look at you</td>\n",
              "    </tr>\n",
              "    <tr>\n",
              "      <th>3</th>\n",
              "      <td>tom prayed to god for help</td>\n",
              "      <td>tom asked for</td>\n",
              "    </tr>\n",
              "    <tr>\n",
              "      <th>4</th>\n",
              "      <td>whats the matter with you you look pale</td>\n",
              "      <td>what you  find looking</td>\n",
              "    </tr>\n",
              "  </tbody>\n",
              "</table>\n",
              "</div>"
            ],
            "text/plain": [
              "                                                         actual                  predicted\n",
              "0  i think i might buy that house on park street thats for sale      the   park you to us \n",
              "1                                        youve found a good man       you found a good    \n",
              "2                              may i have a look at your ticket  can i take a look at you \n",
              "3                                    tom prayed to god for help         tom asked for     \n",
              "4                       whats the matter with you you look pale  what you  find looking   "
            ]
          },
          "metadata": {
            "tags": []
          },
          "execution_count": 29
        }
      ]
    },
    {
      "cell_type": "code",
      "metadata": {
        "id": "K6PW4gvku1BF",
        "colab_type": "code",
        "outputId": "a0082bb0-161a-4686-e6d9-decc3129c5e4",
        "colab": {
          "base_uri": "https://localhost:8080/",
          "height": 195
        }
      },
      "source": [
        "pred_df.tail()"
      ],
      "execution_count": 0,
      "outputs": [
        {
          "output_type": "execute_result",
          "data": {
            "text/html": [
              "<div>\n",
              "<style scoped>\n",
              "    .dataframe tbody tr th:only-of-type {\n",
              "        vertical-align: middle;\n",
              "    }\n",
              "\n",
              "    .dataframe tbody tr th {\n",
              "        vertical-align: top;\n",
              "    }\n",
              "\n",
              "    .dataframe thead th {\n",
              "        text-align: right;\n",
              "    }\n",
              "</style>\n",
              "<table border=\"1\" class=\"dataframe\">\n",
              "  <thead>\n",
              "    <tr style=\"text-align: right;\">\n",
              "      <th></th>\n",
              "      <th>actual</th>\n",
              "      <th>predicted</th>\n",
              "    </tr>\n",
              "  </thead>\n",
              "  <tbody>\n",
              "    <tr>\n",
              "      <th>39165</th>\n",
              "      <td>tom told mary everything he knew about what had happened</td>\n",
              "      <td>told mary what  about  the worst</td>\n",
              "    </tr>\n",
              "    <tr>\n",
              "      <th>39166</th>\n",
              "      <td>he wants vengeance</td>\n",
              "      <td>he wants to whats math</td>\n",
              "    </tr>\n",
              "    <tr>\n",
              "      <th>39167</th>\n",
              "      <td>its still snowing</td>\n",
              "      <td>its is</td>\n",
              "    </tr>\n",
              "    <tr>\n",
              "      <th>39168</th>\n",
              "      <td>no sooner had i opened the box than a frog jumped out</td>\n",
              "      <td>i painted the box to my  shoes</td>\n",
              "    </tr>\n",
              "    <tr>\n",
              "      <th>39169</th>\n",
              "      <td>i thought you didnt want to go</td>\n",
              "      <td>i thought you didnt want going</td>\n",
              "    </tr>\n",
              "  </tbody>\n",
              "</table>\n",
              "</div>"
            ],
            "text/plain": [
              "                                                         actual                         predicted\n",
              "39165  tom told mary everything he knew about what had happened  told mary what  about  the worst\n",
              "39166                                        he wants vengeance         he wants to whats math   \n",
              "39167                                         its still snowing                      its is      \n",
              "39168     no sooner had i opened the box than a frog jumped out    i painted the box to my  shoes\n",
              "39169                            i thought you didnt want to go  i thought you didnt want going  "
            ]
          },
          "metadata": {
            "tags": []
          },
          "execution_count": 30
        }
      ]
    },
    {
      "cell_type": "code",
      "metadata": {
        "id": "-L3g_Qtuu4Nz",
        "colab_type": "code",
        "colab": {}
      },
      "source": [
        ""
      ],
      "execution_count": 0,
      "outputs": []
    }
  ]
}